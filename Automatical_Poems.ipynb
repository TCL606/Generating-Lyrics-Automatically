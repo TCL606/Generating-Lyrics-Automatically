{
 "cells": [
  {
   "cell_type": "code",
   "execution_count": 101,
   "id": "4db90fad",
   "metadata": {},
   "outputs": [
    {
     "name": "stdout",
     "output_type": "stream",
     "text": [
      "['lyrics/adele.txt', 'lyrics/al-green.txt', 'lyrics/alicia-keys.txt', 'lyrics/amy-winehouse.txt', 'lyrics/beatles.txt', 'lyrics/bieber.txt', 'lyrics/bjork.txt', 'lyrics/blink-182.txt', 'lyrics/bob-dylan.txt', 'lyrics/bob-marley.txt', 'lyrics/britney-spears.txt', 'lyrics/bruce-springsteen.txt', 'lyrics/bruno-mars.txt', 'lyrics/cake.txt', 'lyrics/dickinson.txt', 'lyrics/disney.txt', 'lyrics/dj-khaled.txt', 'lyrics/dolly-parton.txt', 'lyrics/dr-seuss.txt', 'lyrics/drake.txt', 'lyrics/eminem.txt', 'lyrics/janisjoplin.txt', 'lyrics/jimi-hendrix.txt', 'lyrics/johnny-cash.txt', 'lyrics/joni-mitchell.txt', 'lyrics/kanye-west.txt', 'lyrics/kanye.txt', 'lyrics/Kanye_West.txt', 'lyrics/lady-gaga.txt', 'lyrics/leonard-cohen.txt', 'lyrics/lil-wayne.txt', 'lyrics/Lil_Wayne.txt', 'lyrics/lin-manuel-miranda.txt', 'lyrics/lorde.txt', 'lyrics/ludacris.txt', 'lyrics/michael-jackson.txt', 'lyrics/missy-elliott.txt', 'lyrics/nickelback.txt', 'lyrics/nicki-minaj.txt', 'lyrics/nirvana.txt', 'lyrics/notorious-big.txt', 'lyrics/notorious_big.txt', 'lyrics/nursery_rhymes.txt', 'lyrics/patti-smith.txt', 'lyrics/paul-simon.txt', 'lyrics/prince.txt', 'lyrics/r-kelly.txt', 'lyrics/radiohead.txt', 'lyrics/rihanna.txt', 'lyrics/taylorswift.txt']\n",
      "50\n"
     ]
    }
   ],
   "source": [
    "__list=\"lyrics/__list.txt\"\n",
    "lyrics_path=\"lyrics/\"\n",
    "path_list=[]\n",
    "with open(__list,'r') as fp:\n",
    "    path=fp.readline().strip('\\n')\n",
    "    while path!=\"\":\n",
    "        path_list.append(lyrics_path+path)\n",
    "        path=fp.readline().strip('\\n')\n",
    "print(path_list)\n",
    "print(len(path_list))"
   ]
  },
  {
   "cell_type": "code",
   "execution_count": 102,
   "id": "afeb6e4b",
   "metadata": {},
   "outputs": [
    {
     "name": "stdout",
     "output_type": "stream",
     "text": [
      "4863\n"
     ]
    }
   ],
   "source": [
    "dataset=[]\n",
    "for item in path_list[49:]:\n",
    "    with open(item,'r',encoding='utf-8') as fp:\n",
    "        song=fp.read()\n",
    "        dataset+=song.lower().split('\\n')\n",
    "print(len(dataset))"
   ]
  },
  {
   "cell_type": "code",
   "execution_count": 103,
   "id": "790470ff",
   "metadata": {},
   "outputs": [],
   "source": [
    "from tensorflow.keras.preprocessing.text import Tokenizer\n",
    "from tensorflow.keras.preprocessing.sequence import pad_sequences\n",
    "import numpy as np\n",
    "import tensorflow as tf\n",
    "import random\n",
    "import shutil"
   ]
  },
  {
   "cell_type": "code",
   "execution_count": 104,
   "id": "0c40928a",
   "metadata": {},
   "outputs": [
    {
     "name": "stdout",
     "output_type": "stream",
     "text": [
      "2416\n"
     ]
    }
   ],
   "source": [
    "tokenizer=Tokenizer()\n",
    "tokenizer.fit_on_texts(dataset)\n",
    "total_words=len(tokenizer.word_index)+1\n",
    "print(total_words)"
   ]
  },
  {
   "cell_type": "code",
   "execution_count": 105,
   "id": "02613391",
   "metadata": {},
   "outputs": [
    {
     "name": "stdout",
     "output_type": "stream",
     "text": [
      "30735\n"
     ]
    }
   ],
   "source": [
    "input_sequences=[]\n",
    "for line in dataset:\n",
    "    token_list=tokenizer.texts_to_sequences([line])[0]\n",
    "    for i in range(1,len(token_list)):\n",
    "        n_gram_sequences=token_list[:i+1]\n",
    "        input_sequences.append(n_gram_sequences)\n",
    "print(len(input_sequences))"
   ]
  },
  {
   "cell_type": "code",
   "execution_count": 106,
   "id": "4ab3d817",
   "metadata": {},
   "outputs": [
    {
     "name": "stdout",
     "output_type": "stream",
     "text": [
      "23\n"
     ]
    }
   ],
   "source": [
    "max_sequence_len=max([len(x) for x in input_sequences])\n",
    "print(max_sequence_len)"
   ]
  },
  {
   "cell_type": "code",
   "execution_count": 107,
   "id": "def265c5",
   "metadata": {},
   "outputs": [
    {
     "name": "stdout",
     "output_type": "stream",
     "text": [
      "30735\n"
     ]
    }
   ],
   "source": [
    "input_sequences=np.array(pad_sequences(input_sequences,maxlen=max_sequence_len,padding='pre'))\n",
    "xs=input_sequences[:,:-1]\n",
    "labels=input_sequences[:,-1]\n",
    "ys=tf.keras.utils.to_categorical(labels,num_classes=total_words)\n",
    "print(len(ys))"
   ]
  },
  {
   "cell_type": "code",
   "execution_count": 108,
   "id": "4f52ebbb",
   "metadata": {},
   "outputs": [
    {
     "name": "stdout",
     "output_type": "stream",
     "text": [
      "Model: \"sequential_18\"\n",
      "_________________________________________________________________\n",
      "Layer (type)                 Output Shape              Param #   \n",
      "=================================================================\n",
      "embedding_18 (Embedding)     (None, 22, 64)            154624    \n",
      "_________________________________________________________________\n",
      "bidirectional_18 (Bidirectio (None, 200)               132000    \n",
      "_________________________________________________________________\n",
      "dense_12 (Dense)             (None, 2416)              485616    \n",
      "=================================================================\n",
      "Total params: 772,240\n",
      "Trainable params: 772,240\n",
      "Non-trainable params: 0\n",
      "_________________________________________________________________\n"
     ]
    }
   ],
   "source": [
    "model=tf.keras.Sequential()\n",
    "model.add(tf.keras.layers.Embedding(total_words,64,input_length=max_sequence_len-1))\n",
    "model.add(tf.keras.layers.Bidirectional(tf.keras.layers.LSTM(100)))\n",
    "model.add(tf.keras.layers.Dense(total_words,activation='softmax'))\n",
    "model.summary()"
   ]
  },
  {
   "cell_type": "code",
   "execution_count": 109,
   "id": "c4b1812a",
   "metadata": {},
   "outputs": [
    {
     "name": "stdout",
     "output_type": "stream",
     "text": [
      "Epoch 1/50\n",
      "961/961 [==============================] - 14s 13ms/step - loss: 5.2919 - accuracy: 0.1342\n",
      "Epoch 2/50\n",
      "961/961 [==============================] - 13s 13ms/step - loss: 3.8611 - accuracy: 0.2905\n",
      "Epoch 3/50\n",
      "961/961 [==============================] - 13s 14ms/step - loss: 3.1144 - accuracy: 0.3818\n",
      "Epoch 4/50\n",
      "961/961 [==============================] - 13s 14ms/step - loss: 2.6606 - accuracy: 0.4398\n",
      "Epoch 5/50\n",
      "961/961 [==============================] - 13s 14ms/step - loss: 2.3539 - accuracy: 0.4796\n",
      "Epoch 6/50\n",
      "961/961 [==============================] - 14s 14ms/step - loss: 2.1379 - accuracy: 0.5160\n",
      "Epoch 7/50\n",
      "961/961 [==============================] - 14s 14ms/step - loss: 1.9995 - accuracy: 0.5356\n",
      "Epoch 8/50\n",
      "961/961 [==============================] - 14s 14ms/step - loss: 1.8844 - accuracy: 0.5569\n",
      "Epoch 9/50\n",
      "961/961 [==============================] - 14s 14ms/step - loss: 1.7978 - accuracy: 0.5710\n",
      "Epoch 10/50\n",
      "961/961 [==============================] - 14s 14ms/step - loss: 1.7796 - accuracy: 0.5730\n",
      "Epoch 11/50\n",
      "961/961 [==============================] - 14s 14ms/step - loss: 1.7053 - accuracy: 0.5865\n",
      "Epoch 12/50\n",
      "961/961 [==============================] - 14s 14ms/step - loss: 1.6905 - accuracy: 0.5889\n",
      "Epoch 13/50\n",
      "961/961 [==============================] - 14s 14ms/step - loss: 1.6684 - accuracy: 0.5909\n",
      "Epoch 14/50\n",
      "961/961 [==============================] - 14s 14ms/step - loss: 1.6150 - accuracy: 0.6034\n",
      "Epoch 15/50\n",
      "961/961 [==============================] - 14s 14ms/step - loss: 1.6022 - accuracy: 0.6045\n",
      "Epoch 16/50\n",
      "961/961 [==============================] - 14s 15ms/step - loss: 1.6201 - accuracy: 0.6010\n",
      "Epoch 17/50\n",
      "961/961 [==============================] - 14s 15ms/step - loss: 1.6323 - accuracy: 0.5985\n",
      "Epoch 18/50\n",
      "961/961 [==============================] - 14s 14ms/step - loss: 1.5735 - accuracy: 0.6110\n",
      "Epoch 19/50\n",
      "961/961 [==============================] - 14s 14ms/step - loss: 1.5525 - accuracy: 0.6146\n",
      "Epoch 20/50\n",
      "961/961 [==============================] - 14s 14ms/step - loss: 1.5734 - accuracy: 0.6096\n",
      "Epoch 21/50\n",
      "961/961 [==============================] - 14s 15ms/step - loss: 1.5498 - accuracy: 0.6149\n",
      "Epoch 22/50\n",
      "961/961 [==============================] - 14s 14ms/step - loss: 1.5228 - accuracy: 0.6187\n",
      "Epoch 23/50\n",
      "961/961 [==============================] - 14s 14ms/step - loss: 1.5386 - accuracy: 0.6156\n",
      "Epoch 24/50\n",
      "961/961 [==============================] - 14s 15ms/step - loss: 1.5574 - accuracy: 0.6125\n",
      "Epoch 25/50\n",
      "961/961 [==============================] - 14s 15ms/step - loss: 1.5451 - accuracy: 0.6117\n",
      "Epoch 26/50\n",
      "961/961 [==============================] - 14s 15ms/step - loss: 1.5702 - accuracy: 0.6086\n",
      "Epoch 27/50\n",
      "961/961 [==============================] - 14s 15ms/step - loss: 1.5476 - accuracy: 0.6146\n",
      "Epoch 28/50\n",
      "961/961 [==============================] - 14s 14ms/step - loss: 1.5177 - accuracy: 0.6206\n",
      "Epoch 29/50\n",
      "961/961 [==============================] - 14s 15ms/step - loss: 1.5169 - accuracy: 0.6211\n",
      "Epoch 30/50\n",
      "961/961 [==============================] - 14s 15ms/step - loss: 1.5279 - accuracy: 0.6166\n",
      "Epoch 31/50\n",
      "961/961 [==============================] - 14s 14ms/step - loss: 1.5102 - accuracy: 0.6201\n",
      "Epoch 32/50\n",
      "961/961 [==============================] - 14s 15ms/step - loss: 1.5378 - accuracy: 0.6141\n",
      "Epoch 33/50\n",
      "961/961 [==============================] - 14s 15ms/step - loss: 1.5295 - accuracy: 0.6157\n",
      "Epoch 34/50\n",
      "961/961 [==============================] - 14s 15ms/step - loss: 1.5441 - accuracy: 0.6155\n",
      "Epoch 35/50\n",
      "961/961 [==============================] - 14s 14ms/step - loss: 1.5126 - accuracy: 0.6205\n",
      "Epoch 36/50\n",
      "961/961 [==============================] - 14s 14ms/step - loss: 1.5468 - accuracy: 0.6117\n",
      "Epoch 37/50\n",
      "961/961 [==============================] - 14s 14ms/step - loss: 1.5182 - accuracy: 0.61670s - loss: 1\n",
      "Epoch 38/50\n",
      "961/961 [==============================] - 17s 17ms/step - loss: 1.5130 - accuracy: 0.6202\n",
      "Epoch 39/50\n",
      "961/961 [==============================] - 18s 19ms/step - loss: 1.5491 - accuracy: 0.6130\n",
      "Epoch 40/50\n",
      "961/961 [==============================] - 19s 19ms/step - loss: 1.5292 - accuracy: 0.6174\n",
      "Epoch 41/50\n",
      "961/961 [==============================] - 18s 19ms/step - loss: 1.5235 - accuracy: 0.6177\n",
      "Epoch 42/50\n",
      "961/961 [==============================] - 19s 20ms/step - loss: 1.4693 - accuracy: 0.6303\n",
      "Epoch 43/50\n",
      "961/961 [==============================] - 17s 18ms/step - loss: 1.4588 - accuracy: 0.6301\n",
      "Epoch 44/50\n",
      "961/961 [==============================] - 17s 18ms/step - loss: 1.5064 - accuracy: 0.6182\n",
      "Epoch 45/50\n",
      "961/961 [==============================] - 17s 18ms/step - loss: 1.5185 - accuracy: 0.6205\n",
      "Epoch 46/50\n",
      "961/961 [==============================] - 17s 18ms/step - loss: 1.5009 - accuracy: 0.6234\n",
      "Epoch 47/50\n",
      "961/961 [==============================] - 19s 20ms/step - loss: 1.5484 - accuracy: 0.6130\n",
      "Epoch 48/50\n",
      "961/961 [==============================] - 18s 19ms/step - loss: 1.5456 - accuracy: 0.6124\n",
      "Epoch 49/50\n",
      "961/961 [==============================] - 18s 19ms/step - loss: 1.5010 - accuracy: 0.6208\n",
      "Epoch 50/50\n",
      "961/961 [==============================] - 18s 19ms/step - loss: 1.6174 - accuracy: 0.6000\n"
     ]
    }
   ],
   "source": [
    "model.compile(loss=tf.losses.categorical_crossentropy,optimizer=tf.optimizers.Adam(learning_rate=0.01),metrics=['accuracy'])\n",
    "history=model.fit(xs,ys,epochs=50)"
   ]
  },
  {
   "cell_type": "code",
   "execution_count": 110,
   "id": "cefd3f6e",
   "metadata": {},
   "outputs": [
    {
     "data": {
      "text/plain": [
       "<Figure size 432x288 with 0 Axes>"
      ]
     },
     "execution_count": 110,
     "metadata": {},
     "output_type": "execute_result"
    },
    {
     "data": {
      "image/png": "[encoded data removed]",
      "text/plain": [
       "<Figure size 432x288 with 1 Axes>"
      ]
     },
     "metadata": {
      "needs_background": "light"
     },
     "output_type": "display_data"
    },
    {
     "data": {
      "image/png": "[encoded data removed]",
      "text/plain": [
       "<Figure size 432x288 with 1 Axes>"
      ]
     },
     "metadata": {
      "needs_background": "light"
     },
     "output_type": "display_data"
    },
    {
     "data": {
      "text/plain": [
       "<Figure size 432x288 with 0 Axes>"
      ]
     },
     "metadata": {},
     "output_type": "display_data"
    }
   ],
   "source": [
    "import matplotlib.pyplot as plt\n",
    "acc=history.history['accuracy']\n",
    "loss=history.history['loss']\n",
    "epochs=range(1,1+len(acc))\n",
    "\n",
    "plt.plot(epochs,acc,'b',label='Training Accuracy')\n",
    "plt.title('Training Accuracy')\n",
    "plt.xlabel('epochs')\n",
    "plt.ylabel('accuracy')\n",
    "plt.legend(['Trainging Accuracy'])\n",
    "plt.figure()\n",
    "\n",
    "plt.plot(epochs,loss,'b',label='Training Loss')\n",
    "plt.title('Training Loss')\n",
    "plt.xlabel('epochs')\n",
    "plt.ylabel('loss')\n",
    "plt.legend(['Trainging Loss'])\n",
    "plt.figure()"
   ]
  },
  {
   "cell_type": "code",
   "execution_count": 113,
   "id": "7cc56c06",
   "metadata": {},
   "outputs": [],
   "source": [
    "def Automatical_Generate_Sentence(seed_text,predict_length):\n",
    "    for _ in range(predict_length):\n",
    "        token_list=tokenizer.texts_to_sequences([seed_text])[0]\n",
    "        token_list=pad_sequences([token_list],maxlen=max_sequence_len-1,padding='pre')\n",
    "        predicted=model.predict_classes(token_list,verbose=0)\n",
    "        output_word=\"\"\n",
    "        for word,index in tokenizer.word_index.items():\n",
    "            if index==predicted:\n",
    "                output_word=word\n",
    "                break\n",
    "        seed_text+=\" \"+output_word\n",
    "    return seed_text"
   ]
  },
  {
   "cell_type": "code",
   "execution_count": 114,
   "id": "e83e8f4f",
   "metadata": {},
   "outputs": [
    {
     "name": "stdout",
     "output_type": "stream",
     "text": [
      "you are so beautiful wonderful whoa there if you could been finally seen you all this time is bad end up dreaming with this love you almost forget how you wonder if you know what we've worked for not bag and it rains you in love that i acted and you are in love true love in a daydream dress so you not for you not this at me in the kitchen i put 'em to the things in the back door and i know i left it coming off how we're not speaking life before you know what you don't try to never grow up like like this is when the feeling sinks in girl when you smile it all you in the girls crowd the girls and girls hopeful i didn't 2017 to do to go and lock me out and threw a feast what first world together like anything to your face you and your sick things now now gotta should be alone i know i saw your face in it makes me like i don't ever had you as baby it loves me that does is do you stay this ain't day we never hung back time and stay here\n"
     ]
    }
   ],
   "source": [
    "predict_text=\"you are so beautiful\"\n",
    "predict_length=200\n",
    "print(Automatical_Generate_Sentence(seed_text=predict_text,predict_length=predict_length))"
   ]
  },
  {
   "cell_type": "code",
   "execution_count": 112,
   "id": "e7c33e0d",
   "metadata": {},
   "outputs": [],
   "source": [
    "model.save(\"Automatical_Generate_Sentence.h5\")"
   ]
  }
 ],
 "metadata": {
  "kernelspec": {
   "display_name": "Python 3",
   "language": "python",
   "name": "python3"
  },
  "language_info": {
   "codemirror_mode": {
    "name": "ipython",
    "version": 3
   },
   "file_extension": ".py",
   "mimetype": "text/x-python",
   "name": "python",
   "nbconvert_exporter": "python",
   "pygments_lexer": "ipython3",
   "version": "3.9.5"
  }
 },
 "nbformat": 4,
 "nbformat_minor": 5
}
